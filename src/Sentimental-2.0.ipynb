{
 "cells": [
  {
   "cell_type": "code",
   "execution_count": null,
   "metadata": {},
   "outputs": [],
   "source": [
    "import tweepy\n",
    "from tweepy import OAuthHandler\n",
    "import json\n",
    "from tweepy import Stream\n",
    "from tweepy.streaming import StreamListener\n",
    "#from pymongo import MongoClient\n",
    "\n",
    "consumer_key = ''\n",
    "consumer_secret = ''\n",
    "access_token = ''\n",
    "access_secret = ''\n",
    "\n",
    "auth = OAuthHandler(consumer_key,consumer_secret)\n",
    "auth.set_access_token(access_token,access_secret)\n",
    "\n",
    "api = tweepy.API(auth)\n",
    "\n",
    "class MyListener(StreamListener):\n",
    "    def on_data(self, data):\n",
    "        try:\n",
    "            Client = MongoClient()\n",
    "            db = Client.hate25july   #Database name\n",
    "            db.tweet.insert(json.loads(data))\n",
    "            with open('hate.csv','a') as f:\n",
    "                f.write(data)\n",
    "                return True\n",
    "        except BaseException as e:\n",
    "            print(\"Error on_data\")\n",
    "        return True\n",
    "    def on_error(self,status):\n",
    "        print(status)\n",
    "        return True\n",
    "    \n",
    "twitter_stream = Stream(auth,MyListener())\n",
    "twitter_stream.filter(languages=[\"en\"], track=[\"hate\"])"
   ]
  },
  {
   "cell_type": "code",
   "execution_count": null,
   "metadata": {},
   "outputs": [],
   "source": [
    "pip install tweepy"
   ]
  },
  {
   "cell_type": "code",
   "execution_count": null,
   "metadata": {},
   "outputs": [],
   "source": [
    "#create a dataframe of all tweets \n",
    "import json\n",
    "import pandas as pd\n",
    "#Initial FileName\n",
    "fd=open(\"report.json\",'r')    \n",
    "df = pd.DataFrame()\n",
    "for line in fd:\n",
    "    tweet = pd.read_json(line)\n",
    "    df = df.append(tweet)\n",
    "fd.close()\n",
    "df\n"
   ]
  },
  {
   "cell_type": "code",
   "execution_count": null,
   "metadata": {},
   "outputs": [],
   "source": [
    "#First Pass Polarity\n",
    "import re\n",
    "def polarity(tweet):\n",
    "    emoji_set = ['👿','😾','😡','😠','😧','😭','😱','🙀','😈','😟','😿','😕','😖','😰','😢','😞','😳','😨','😬','😮','😣','😫','😒','😩','😵','😥','😦','😁','😯','😷','😔','😓','😜','😑','😶','😐','😴','😝','😪','😆','😎','😛','😲','😊','😀','😽','😙','😗','😚','☺️','😌','😄','😼','😸','😃','😺','😅','😏','😻','😍','😇','😂','😹','😘','😉','😋','🤗','😤']\n",
    "    st = []\n",
    "    polarity_set = {'👿':-5,'😾':-5,'😡':-5,'😠':-4,'😧':-4,'😭':-4,'😱':-4,'🙀':-4,'😈':-4,'😟':-4,'😿':-2,'😕':-2,'😖':-2,'😰':-2,'😢':-2,'😞':-2,'😳':-2,'😨':-2,'😬':-2,'😮':-2,'😣':-2,'😫':-2,'😒':-2,'😩':-2,'😵':-1,'😥':-1,'😦':-1,'😁':-1,'😯':-1,'😷':-1,'😔':-1,'😓':-1,'😜':-1,'😑':0,'😶':0,'😐':0,'😴':0,'😝':0,'😪':0,'😆':1,'😎':1,'😛':1,'😲':3,'😊':3,'😀':3,'😽':3,'😙':3,'😗':3,'😚':3,'☺️':3,'😌':3,'😄':3,'😼':3,'😸':3,'😃':3,'😺':3,'😅':3,'😏':3,'😻':4,'😍':4,'😇':4,'😂':4,'😹':4,'😘':4,'😉':4,'😋':4,'🤗':4,'😤':5}\n",
    "    for i in tweet:\n",
    "        if(i in str(emoji_set)):\n",
    "            st.append(i)\n",
    "        else:\n",
    "            st.append('😑')\n",
    "    st = [i.strip(' ') for i in st]   \n",
    "    a = set(st)\n",
    "    a = list(a)\n",
    "    a = a[1:len(a)]\n",
    "    pole_sum = 0\n",
    "    s = tweet\n",
    "    s = re.sub(r'[^\\w\\s]','',s)\n",
    "    b = str(a)\n",
    "    b = b.replace(',','')\n",
    "    b = b.replace('[','')\n",
    "    b = b.replace(']','')\n",
    "    b = b.replace('\\'','')\n",
    "    b = b.replace('\"','')\n",
    "    for i in b:\n",
    "        pole_sum += polarity_set.get(i,0)\n",
    "    wr = s.strip() + ',' + b.strip() + ',' + str(pole_sum).strip() + '\\n'\n",
    "    refine = open(\"internal.csv\",'a')\n",
    "    refine.write(wr)\n",
    "    refine.close()\n",
    "   "
   ]
  },
  {
   "cell_type": "code",
   "execution_count": null,
   "metadata": {
    "scrolled": true
   },
   "outputs": [],
   "source": [
    "df1 = pd.DataFrame(list(df['text']))\n",
    "#df1"
   ]
  },
  {
   "cell_type": "code",
   "execution_count": null,
   "metadata": {},
   "outputs": [],
   "source": [
    "for i in range(len(df1)):\n",
    "    polarity(str(df1[0][i]))\n",
    "    "
   ]
  },
  {
   "cell_type": "code",
   "execution_count": null,
   "metadata": {},
   "outputs": [],
   "source": [
    "pwd"
   ]
  },
  {
   "cell_type": "code",
   "execution_count": null,
   "metadata": {
    "scrolled": false
   },
   "outputs": [],
   "source": [
    "import csv\n",
    "refine_df = pd.read_excel(\"internal.xlsx\",header=None)\n",
    "refine_df = refine_df.dropna()\n",
    "refine_df = refine_df.drop_duplicates()\n",
    "refine_df.to_csv(\"first_pass_result.csv\")"
   ]
  },
  {
   "cell_type": "code",
   "execution_count": null,
   "metadata": {
    "scrolled": true
   },
   "outputs": [],
   "source": [
    "refine_df = refine_df.reset_index()\n",
    "refine_df"
   ]
  }
 ],
 "metadata": {
  "anaconda-cloud": {},
  "kernelspec": {
   "display_name": "Python 3",
   "language": "python",
   "name": "python3"
  },
  "language_info": {
   "codemirror_mode": {
    "name": "ipython",
    "version": 3
   },
   "file_extension": ".py",
   "mimetype": "text/x-python",
   "name": "python",
   "nbconvert_exporter": "python",
   "pygments_lexer": "ipython3",
   "version": "3.7.3"
  }
 },
 "nbformat": 4,
 "nbformat_minor": 1
}
