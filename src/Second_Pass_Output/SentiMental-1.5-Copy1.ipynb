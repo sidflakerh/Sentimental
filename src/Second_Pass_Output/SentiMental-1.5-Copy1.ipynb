{
 "cells": [
  {
   "cell_type": "code",
   "execution_count": null,
   "metadata": {
    "collapsed": false
   },
   "outputs": [],
   "source": [
    "import tweepy\n",
    "from tweepy import OAuthHandler\n",
    "import json\n",
    "from tweepy import Stream\n",
    "from tweepy.streaming import StreamListener\n",
    "from pymongo import MongoClient\n",
    "\n",
    "consumer_key = 'AYyGdEpBASKaeqS8OFiQIoqzE'\n",
    "consumer_secret = '8tkwkPmlWr5Eep6xOKQxIkkaM23lFWmRXpxH3kx7J7pxLzReNB'\n",
    "access_token = '2438536710-EKRyhl3l4XBe2bI1Uz7ZbBpl2JAP6kkjDHoN3cP'\n",
    "access_secret = 'xHfiSoZDeOKYizRGhYUXoA3aLVF7bRmZdbOvuz3DLhPjL'\n",
    "\n",
    "auth = OAuthHandler(consumer_key,consumer_secret)\n",
    "auth.set_access_token(access_token,access_secret)\n",
    "\n",
    "api = tweepy.API(auth)\n",
    "\n",
    "class MyListener(StreamListener):\n",
    "    def on_data(self, data):\n",
    "        try:\n",
    "            Client = MongoClient()\n",
    "            db = Client.HappySad\n",
    "            db.love.insert(json.loads(data))\n",
    "            with open('happy.csv','a') as f:\n",
    "                f.write(data)\n",
    "                return True\n",
    "        except BaseException as e:\n",
    "            print(\"Error on_data\")\n",
    "        return True\n",
    "    def on_error(self,status):\n",
    "        print(status)\n",
    "        return True\n",
    "    \n",
    "twitter_stream = Stream(auth,MyListener())\n",
    "twitter_stream.filter(languages=[\"en\"], track=[\"love\"])"
   ]
  },
  {
   "cell_type": "code",
   "execution_count": 15,
   "metadata": {
    "collapsed": false
   },
   "outputs": [],
   "source": [
    "import json\n",
    "import pandas as pd\n",
    "fd=open(\"trainingDatasetProcessed.txt\",'r')\n",
    "#df = pd.DataFrame()\n",
    "#for line in fd:\n",
    "tweet = pd.read_csv(fd, sep='\\t')\n",
    "#    df = df.append(tweet)\n",
    "fd.close()\n",
    "df = tweet\n",
    "df.to_csv(\"train.csv\")\n",
    "\n",
    "\n",
    "    "
   ]
  },
  {
   "cell_type": "code",
   "execution_count": 14,
   "metadata": {
    "collapsed": false
   },
   "outputs": [
    {
     "data": {
      "text/plain": [
       "\"its not that I'm a GSP fan, i just hate Nick Diaz. can't wait for february.\""
      ]
     },
     "execution_count": 14,
     "metadata": {},
     "output_type": "execute_result"
    }
   ],
   "source": [
    "df1 = pd.DataFrame(list(df['review']))"
   ]
  },
  {
   "cell_type": "code",
   "execution_count": 7,
   "metadata": {
    "collapsed": false
   },
   "outputs": [],
   "source": [
    "#First Pass Polarity\n",
    "import re\n",
    "def polarity(tweet):\n",
    "    emoji_set = ['👿','😾','😡','😠','😧','😭','😱','🙀','😈','😟','😿','😕','😖','😰','😢','😞','😳','😨','😬','😮','😣','😫','😒','😩','😵','😥','😦','😁','😯','😷','😔','😓','😜','😑','😶','😐','😴','😝','😪','😆','😎','😛','😲','😊','😀','😽','😙','😗','😚','☺️','😌','😄','😼','😸','😃','😺','😅','😏','😻','😍','😇','😂','😹','😘','😉','😋','🤗','😤']\n",
    "    st = []\n",
    "    polarity_set = {'👿':-5,'😾':-5,'😡':-5,'😠':-4,'😧':-4,'😭':-4,'😱':-4,'🙀':-4,'😈':-4,'😟':-4,'😿':-2,'😕':-2,'😖':-2,'😰':-2,'😢':-2,'😞':-2,'😳':-2,'😨':-2,'😬':-2,'😮':-2,'😣':-2,'😫':-2,'😒':-2,'😩':-2,'😵':-1,'😥':-1,'😦':-1,'😁':-1,'😯':-1,'😷':-1,'😔':-1,'😓':-1,'😜':-1,'😑':0,'😶':0,'😐':0,'😴':0,'😝':0,'😪':0,'😆':1,'😎':1,'😛':1,'😲':3,'😊':3,'😀':3,'😽':3,'😙':3,'😗':3,'😚':3,'☺️':3,'😌':3,'😄':3,'😼':3,'😸':3,'😃':3,'😺':3,'😅':3,'😏':3,'😻':4,'😍':4,'😇':4,'😂':4,'😹':4,'😘':4,'😉':4,'😋':4,'🤗':4,'😤':5}\n",
    "    for i in tweet:\n",
    "        if(i in str(emoji_set)):\n",
    "            st.append(i)\n",
    "        else:\n",
    "            st.append('😑')\n",
    "    st = [i.strip(' ') for i in st]   \n",
    "    a = set(st)\n",
    "    a = list(a)\n",
    "    a = a[1:len(a)]\n",
    "    pole_sum = 0\n",
    "    s = tweet\n",
    "    s = re.sub(r'[^\\w\\s]','',s)\n",
    "    b = str(a)\n",
    "    b = b.replace(',','')\n",
    "    b = b.replace('[','')\n",
    "    b = b.replace(']','')\n",
    "    b = b.replace('\\'','')\n",
    "    b = b.replace('\"','')\n",
    "    for i in b:\n",
    "        pole_sum += polarity_set.get(i,0)\n",
    "    wr = s.strip() + ',' + b.strip() + ',' + str(pole_sum).strip() + '\\n'\n",
    "    refine = open(\"refine1.csv\",'a')\n",
    "    refine.write(wr)\n",
    "    refine.close()\n",
    "   "
   ]
  },
  {
   "cell_type": "code",
   "execution_count": 8,
   "metadata": {
    "collapsed": false
   },
   "outputs": [],
   "source": [
    "for i in range(len(df1)):\n",
    "    polarity(str(df1[0][i]))\n",
    "    "
   ]
  },
  {
   "cell_type": "code",
   "execution_count": 118,
   "metadata": {
    "collapsed": false
   },
   "outputs": [],
   "source": [
    "import csv\n",
    "refine_df = pd.read_excel(\"refine1.xlsx\",header=None)\n",
    "refine_df = refine_df.dropna()\n",
    "refine_df = refine_df.drop_duplicates()\n",
    "refine_df.to_csv(\"refine_clean.csv\")"
   ]
  },
  {
   "cell_type": "code",
   "execution_count": 119,
   "metadata": {
    "collapsed": false
   },
   "outputs": [],
   "source": [
    "refine_df = refine_df.reset_index()"
   ]
  },
  {
   "cell_type": "code",
   "execution_count": 128,
   "metadata": {
    "collapsed": false
   },
   "outputs": [],
   "source": [
    "unclassified_df = refine_df.loc[refine_df[1] == '😑']"
   ]
  }
 ],
 "metadata": {
  "anaconda-cloud": {},
  "kernelspec": {
   "display_name": "Python [Root]",
   "language": "python",
   "name": "Python [Root]"
  },
  "language_info": {
   "codemirror_mode": {
    "name": "ipython",
    "version": 3
   },
   "file_extension": ".py",
   "mimetype": "text/x-python",
   "name": "python",
   "nbconvert_exporter": "python",
   "pygments_lexer": "ipython3",
   "version": "3.5.2"
  }
 },
 "nbformat": 4,
 "nbformat_minor": 0
}
